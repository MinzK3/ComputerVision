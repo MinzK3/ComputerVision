{
 "cells": [
  {
   "cell_type": "code",
   "id": "initial_id",
   "metadata": {
    "collapsed": true,
    "ExecuteTime": {
     "end_time": "2024-10-04T09:31:08.461009Z",
     "start_time": "2024-10-04T09:31:08.457622Z"
    }
   },
   "source": [
    "import cv2\n",
    "import numpy as np"
   ],
   "outputs": [],
   "execution_count": 15
  },
  {
   "metadata": {
    "ExecuteTime": {
     "end_time": "2024-10-04T09:31:46.228542Z",
     "start_time": "2024-10-04T09:31:46.225612Z"
    }
   },
   "cell_type": "code",
   "source": [
    "def display(title,img):\n",
    "    cv2.imshow(title,img)\n",
    "    cv2.waitKey(0)\n",
    "    cv2.destroyAllWindows()"
   ],
   "id": "c32ccc65113803e5",
   "outputs": [],
   "execution_count": 16
  },
  {
   "metadata": {
    "ExecuteTime": {
     "end_time": "2024-10-04T09:32:25.211839Z",
     "start_time": "2024-10-04T09:32:21.845604Z"
    }
   },
   "cell_type": "code",
   "source": [
    "img = np.zeros((300,300,3),np.uint8)\n",
    "display(\"Image\",img)"
   ],
   "id": "cc08d5c8275e70ae",
   "outputs": [],
   "execution_count": 17
  },
  {
   "metadata": {
    "ExecuteTime": {
     "end_time": "2024-10-04T09:33:19.447755Z",
     "start_time": "2024-10-04T09:33:16.668821Z"
    }
   },
   "cell_type": "code",
   "source": [
    "cv2.line(img,(200,200),(400,150),(255,255,0),2)\n",
    "display(\"Line\",img)"
   ],
   "id": "1313fd2e8f6241c8",
   "outputs": [],
   "execution_count": 18
  },
  {
   "metadata": {
    "ExecuteTime": {
     "end_time": "2024-10-04T09:34:07.149207Z",
     "start_time": "2024-10-04T09:34:04.701398Z"
    }
   },
   "cell_type": "code",
   "source": [
    "cv2.circle(img,(150,150),100,(0,255,0),-1)\n",
    "display(\"Circle\",img)"
   ],
   "id": "f65797bc48a6d52a",
   "outputs": [],
   "execution_count": 19
  },
  {
   "metadata": {
    "ExecuteTime": {
     "end_time": "2024-10-04T09:35:07.745759Z",
     "start_time": "2024-10-04T09:35:05.667680Z"
    }
   },
   "cell_type": "code",
   "source": [
    "cv2.rectangle(img,(100,100),(200,200),(0,0,255),2)\n",
    "display(\"Rectangle\",img)"
   ],
   "id": "b78d93ee3501a43",
   "outputs": [],
   "execution_count": 20
  },
  {
   "metadata": {
    "ExecuteTime": {
     "end_time": "2024-10-04T09:38:10.471626Z",
     "start_time": "2024-10-04T09:38:08.642052Z"
    }
   },
   "cell_type": "code",
   "source": [
    "content = 'Mai Nguyen Nhat Minh'\n",
    "font = cv2.FONT_HERSHEY_SIMPLEX\n",
    "cv2.putText(img,content,(10,380),font,0.6,(255,255,255),2)\n",
    "display(\"Text\",img)"
   ],
   "id": "2773b5e2bd44f43d",
   "outputs": [],
   "execution_count": 26
  },
  {
   "metadata": {},
   "cell_type": "code",
   "outputs": [],
   "execution_count": null,
   "source": "",
   "id": "595613da7a92da43"
  }
 ],
 "metadata": {
  "kernelspec": {
   "display_name": "Python 3",
   "language": "python",
   "name": "python3"
  },
  "language_info": {
   "codemirror_mode": {
    "name": "ipython",
    "version": 2
   },
   "file_extension": ".py",
   "mimetype": "text/x-python",
   "name": "python",
   "nbconvert_exporter": "python",
   "pygments_lexer": "ipython2",
   "version": "2.7.6"
  }
 },
 "nbformat": 4,
 "nbformat_minor": 5
}

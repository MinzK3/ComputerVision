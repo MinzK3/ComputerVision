{
 "cells": [
  {
   "cell_type": "code",
   "id": "initial_id",
   "metadata": {
    "collapsed": true,
    "ExecuteTime": {
     "end_time": "2024-10-04T08:22:12.895174Z",
     "start_time": "2024-10-04T08:22:12.825315Z"
    }
   },
   "source": [
    "import numpy as np\n",
    "\n",
    "# Tạo mảng\n",
    "a = np.array([1,4,5])\n",
    "\n",
    "# In mảng\n",
    "print(a)\n",
    "\n",
    "# In ra 1 phần tử\n",
    "element = a[1]\n",
    "print(element)"
   ],
   "outputs": [
    {
     "name": "stdout",
     "output_type": "stream",
     "text": [
      "[1 4 5]\n",
      "4\n"
     ]
    }
   ],
   "execution_count": 1
  },
  {
   "metadata": {
    "ExecuteTime": {
     "end_time": "2024-10-04T08:22:12.906568Z",
     "start_time": "2024-10-04T08:22:12.903178Z"
    }
   },
   "cell_type": "code",
   "source": [
    "# Tạo mảng 2 chiều\n",
    "matrix = np.array([[1, 2, 3], [15, 20, 31], [7, 9, 10]])\n",
    "print(\"Matrix:\")\n",
    "print(matrix)\n",
    "\n",
    "# In một phần tử\n",
    "element = matrix[1, 2]\n",
    "print(element)"
   ],
   "id": "4515578c166e985f",
   "outputs": [
    {
     "name": "stdout",
     "output_type": "stream",
     "text": [
      "Matrix:\n",
      "[[ 1  2  3]\n",
      " [15 20 31]\n",
      " [ 7  9 10]]\n",
      "31\n"
     ]
    }
   ],
   "execution_count": 2
  },
  {
   "metadata": {
    "ExecuteTime": {
     "end_time": "2024-10-04T08:22:13.053893Z",
     "start_time": "2024-10-04T08:22:13.044761Z"
    }
   },
   "cell_type": "code",
   "source": [
    "# Cách tạo mảng\n",
    "# Tạo mảng toàn là số 0\n",
    "a = np.zeros(4)\n",
    "print(a)\n",
    "\n",
    "# Tạo mảng toàn là số 1\n",
    "a = np.ones(6)\n",
    "print(a)\n",
    "\n",
    "# Tạo mảng\n",
    "a = np.empty(6)\n",
    "print(a)\n",
    "\n",
    "# Tạo mảng từ 0 đến 100\n",
    "a = np.arange(50)\n",
    "print(a)\n",
    "\n",
    "# Tạo mảng gồm các phần tử với khoảng cách đều nhau\n",
    "a = np.linspace(0, 20, num=5)\n",
    "print(a)\n",
    "\n",
    "\n",
    "# Xác định kiểu dữ liệu\n",
    "a = np.ones(5, dtype=np.int64)\n",
    "a"
   ],
   "id": "56c7b19c5d7e0637",
   "outputs": [
    {
     "name": "stdout",
     "output_type": "stream",
     "text": [
      "[0. 0. 0. 0.]\n",
      "[1. 1. 1. 1. 1. 1.]\n",
      "[1. 1. 1. 1. 1. 1.]\n",
      "[ 0  1  2  3  4  5  6  7  8  9 10 11 12 13 14 15 16 17 18 19 20 21 22 23\n",
      " 24 25 26 27 28 29 30 31 32 33 34 35 36 37 38 39 40 41 42 43 44 45 46 47\n",
      " 48 49]\n",
      "[ 0.  5. 10. 15. 20.]\n"
     ]
    },
    {
     "data": {
      "text/plain": [
       "array([1, 1, 1, 1, 1])"
      ]
     },
     "execution_count": 3,
     "metadata": {},
     "output_type": "execute_result"
    }
   ],
   "execution_count": 3
  },
  {
   "metadata": {
    "ExecuteTime": {
     "end_time": "2024-10-04T08:22:13.079268Z",
     "start_time": "2024-10-04T08:22:13.073970Z"
    }
   },
   "cell_type": "code",
   "source": [
    "# Thêm, xóa, sắp xếp mảng\n",
    "\n",
    "# Tạo mảng ban đầu\n",
    "arr = np.array([3, 15, 2, 10, 30, 21, 50, 16])\n",
    "print(arr)\n",
    "\n",
    "# Sắp xếp\n",
    "arr = np.sort(arr)\n",
    "print(arr)\n",
    "\n",
    "# Sắp xếp ngược\n",
    "arr = np.sort(arr)[::-3]\n",
    "print(arr)\n",
    "\n",
    "# Thêm phần tử vào mảng\n",
    "arr = np.append(arr, 60)\n",
    "print(arr)\n",
    "\n",
    "# Xóa đi một ví trí nào đó trong mảng\n",
    "arr = np.delete(arr, 3)\n",
    "print(arr)"
   ],
   "id": "582c467bc186ce52",
   "outputs": [
    {
     "name": "stdout",
     "output_type": "stream",
     "text": [
      "[ 3 15  2 10 30 21 50 16]\n",
      "[ 2  3 10 15 16 21 30 50]\n",
      "[50 16  3]\n",
      "[50 16  3 60]\n",
      "[50 16  3]\n"
     ]
    }
   ],
   "execution_count": 4
  },
  {
   "metadata": {
    "ExecuteTime": {
     "end_time": "2024-10-04T08:22:13.098556Z",
     "start_time": "2024-10-04T08:22:13.093960Z"
    }
   },
   "cell_type": "code",
   "source": [
    "# Tạo một mảng 2 chiều\n",
    "arr = np.array([[3, 61, 9],\n",
    "                [7, 10, 8],\n",
    "                [1, 21, 51]])\n",
    "\n",
    "sap_xep_theo_hang = np.sort(arr, axis=1) # tăng dần\n",
    "print(sap_xep_theo_hang)\n",
    "\n",
    "sap_xep_theo_cot = np.sort(arr, axis=0) # tăng dần\n",
    "print(sap_xep_theo_cot)"
   ],
   "id": "95d621fded7499bf",
   "outputs": [
    {
     "name": "stdout",
     "output_type": "stream",
     "text": [
      "[[ 3  9 61]\n",
      " [ 7  8 10]\n",
      " [ 1 21 51]]\n",
      "[[ 1 10  8]\n",
      " [ 3 21  9]\n",
      " [ 7 61 51]]\n"
     ]
    }
   ],
   "execution_count": 5
  },
  {
   "metadata": {
    "ExecuteTime": {
     "end_time": "2024-10-04T08:22:13.123979Z",
     "start_time": "2024-10-04T08:22:13.120132Z"
    }
   },
   "cell_type": "code",
   "source": [
    "# Tạo một mảng 2D\n",
    "arr = np.array([[1, 4, 7], [4, 8, 12]])\n",
    "\n",
    "# Sử dụng các thuộc tính để lấy thông tin về mảng\n",
    "so_chieu = arr.ndim  # Số chiều (2 chiều)\n",
    "kich_thuoc = arr.size  # Kích thước (tổng số phần tử, 6)\n",
    "hinh_dang = arr.shape  # Hình dạng (số hàng x số cột, (2, 3))\n",
    "\n",
    "print(\"Số chiều:\", so_chieu)\n",
    "print(\"Kích thước:\", kich_thuoc)\n",
    "print(\"Hình dạng:\", hinh_dang)"
   ],
   "id": "f9056523b27fc441",
   "outputs": [
    {
     "name": "stdout",
     "output_type": "stream",
     "text": [
      "Số chiều: 2\n",
      "Kích thước: 6\n",
      "Hình dạng: (2, 3)\n"
     ]
    }
   ],
   "execution_count": 6
  },
  {
   "metadata": {
    "ExecuteTime": {
     "end_time": "2024-10-04T08:22:13.159153Z",
     "start_time": "2024-10-04T08:22:13.155603Z"
    }
   },
   "cell_type": "code",
   "source": [
    "# Chuyển đổi kiểu dữ liệu\n",
    "arr = np.array([1, 5, 7, 10, 15])\n",
    "arr_float = arr.astype(float)\n",
    "print(arr_float)"
   ],
   "id": "21ab668ece9a3813",
   "outputs": [
    {
     "name": "stdout",
     "output_type": "stream",
     "text": [
      "[ 1.  5.  7. 10. 15.]\n"
     ]
    }
   ],
   "execution_count": 7
  },
  {
   "metadata": {
    "ExecuteTime": {
     "end_time": "2024-10-04T08:22:13.179969Z",
     "start_time": "2024-10-04T08:22:13.176725Z"
    }
   },
   "cell_type": "code",
   "source": [
    "# Thay đổi hình dạng của mảng\n",
    "arr = np.array([1, 6, 3, 4, 2, 9])\n",
    "reshaped_arr = arr.reshape(2,3)\n",
    "print(reshaped_arr)\n",
    "reshaped_arr = arr.reshape(3,2)\n",
    "print(reshaped_arr)"
   ],
   "id": "1c025993666b337e",
   "outputs": [
    {
     "name": "stdout",
     "output_type": "stream",
     "text": [
      "[[1 6 3]\n",
      " [4 2 9]]\n",
      "[[1 6]\n",
      " [3 4]\n",
      " [2 9]]\n"
     ]
    }
   ],
   "execution_count": 8
  },
  {
   "metadata": {
    "ExecuteTime": {
     "end_time": "2024-10-04T08:22:13.201248Z",
     "start_time": "2024-10-04T08:22:13.198056Z"
    }
   },
   "cell_type": "code",
   "source": [
    "reshaped_arr = reshaped_arr.flatten() # Chuyển thành mảng 1 chiều\n",
    "print(reshaped_arr)"
   ],
   "id": "12ff48a04fdeb468",
   "outputs": [
    {
     "name": "stdout",
     "output_type": "stream",
     "text": [
      "[1 6 3 4 2 9]\n"
     ]
    }
   ],
   "execution_count": 9
  },
  {
   "metadata": {
    "ExecuteTime": {
     "end_time": "2024-10-04T08:22:13.237357Z",
     "start_time": "2024-10-04T08:22:13.233418Z"
    }
   },
   "cell_type": "code",
   "source": [
    "# Cắt lát mảng\n",
    "arr = np.array([1, 6, 9, 10, 15])\n",
    "\n",
    "sub_arr = arr[1:4]  # Cắt từ phần tử thứ 1 đến 4\n",
    "print(sub_arr) \n",
    "\n",
    "sub_arr = arr[:-1] \n",
    "print(sub_arr)\n",
    "\n",
    "sub_arr = arr[-2:]  \n",
    "print(sub_arr)"
   ],
   "id": "3e2c20acd9317154",
   "outputs": [
    {
     "name": "stdout",
     "output_type": "stream",
     "text": [
      "[ 6  9 10]\n",
      "[ 1  6  9 10]\n",
      "[10 15]\n"
     ]
    }
   ],
   "execution_count": 10
  },
  {
   "metadata": {
    "ExecuteTime": {
     "end_time": "2024-10-04T08:22:13.263545Z",
     "start_time": "2024-10-04T08:22:13.259957Z"
    }
   },
   "cell_type": "code",
   "source": [
    "# Chuyển vị mảng\n",
    "arr = np.array([[1, 2, 4], [4, 9, 16]])\n",
    "print(arr)\n",
    "# Để chuyển vị mảng, chúng ta có thể sử dụng .T hoặc hàm numpy.transpose().\n",
    "transposed_arr = arr.T\n",
    "print(transposed_arr)"
   ],
   "id": "d3b65d992003f2ef",
   "outputs": [
    {
     "name": "stdout",
     "output_type": "stream",
     "text": [
      "[[ 1  2  4]\n",
      " [ 4  9 16]]\n",
      "[[ 1  4]\n",
      " [ 2  9]\n",
      " [ 4 16]]\n"
     ]
    }
   ],
   "execution_count": 11
  },
  {
   "metadata": {
    "ExecuteTime": {
     "end_time": "2024-10-04T08:22:13.283106Z",
     "start_time": "2024-10-04T08:22:13.279647Z"
    }
   },
   "cell_type": "code",
   "source": [
    "# Nối mảng\n",
    "arr1 = np.array([1, 4, 7])\n",
    "arr2 = np.array([12, 15, 16])\n",
    "arr = np.concatenate((arr1, arr2))\n",
    "print(arr)"
   ],
   "id": "db3ca5f36c6e4de8",
   "outputs": [
    {
     "name": "stdout",
     "output_type": "stream",
     "text": [
      "[ 1  4  7 12 15 16]\n"
     ]
    }
   ],
   "execution_count": 12
  },
  {
   "metadata": {
    "ExecuteTime": {
     "end_time": "2024-10-04T08:22:13.303662Z",
     "start_time": "2024-10-04T08:22:13.297436Z"
    }
   },
   "cell_type": "code",
   "source": [
    "# II. Hàm tính tổng (Sum)\n",
    "# - Hàm numpy.sum() cho phép tính tổng các phần tử trong mảng.\n",
    "arr = np.array([3, 4, 9, 10, 15])\n",
    "total = np.sum(arr)\n",
    "print(\"Tổng của mảng arr:\", total)\n",
    "\n",
    "# III. Hàm tính trung bình (Mean)\n",
    "# - Hàm numpy.mean() tính giá trị trung bình của các phần tử trong mảng.\n",
    "average = np.mean(arr)\n",
    "print(\"Giá trị trung bình của mảng arr:\", average)\n",
    "\n",
    "# IV. Hàm tìm giá trị lớn nhất và nhỏ nhất (Max và Min)\n",
    "# - Hàm numpy.max() và numpy.min() dùng để tìm giá trị lớn nhất và nhỏ nhất trong mảng.\n",
    "max_value = np.max(arr)\n",
    "min_value = np.min(arr)\n",
    "print(\"Giá trị lớn nhất trong mảng arr:\", max_value)\n",
    "print(\"Giá trị nhỏ nhất trong mảng arr:\", min_value)\n",
    "\n",
    "# V. Hàm tính độ lệch chuẩn (Standard Deviation)\n",
    "# - Hàm numpy.std() tính độ lệch chuẩn của mảng, đo lường mức độ phân tán của dữ liệu.\n",
    "std_deviation = np.std(arr)\n",
    "print(\"Độ lệch chuẩn của mảng arr:\", std_deviation)\n",
    "\n",
    "# VI. Hàm tính phương sai (Variance)\n",
    "# - Hàm numpy.var() tính phương sai của mảng, đo lường mức độ biến thiên của dữ liệu.\n",
    "variance = np.var(arr)\n",
    "print(\"Phương sai của mảng arr:\", variance)\n",
    "\n",
    "# VII. Hàm tính tổng tích chập (Dot Product)\n",
    "# - Hàm numpy.dot() tính tổng tích chập của hai mảng (vector).\n",
    "arr1 = np.array([1, 4, 6])\n",
    "arr2 = np.array([8, 12, 16])\n",
    "dot_product = np.dot(arr1, arr2)\n",
    "print(\"Tổng tích chập của arr1 và arr2:\", dot_product)"
   ],
   "id": "2ddf1b2c28f6a54d",
   "outputs": [
    {
     "name": "stdout",
     "output_type": "stream",
     "text": [
      "Tổng của mảng arr: 41\n",
      "Giá trị trung bình của mảng arr: 8.2\n",
      "Giá trị lớn nhất trong mảng arr: 15\n",
      "Giá trị nhỏ nhất trong mảng arr: 3\n",
      "Độ lệch chuẩn của mảng arr: 4.354308211415448\n",
      "Phương sai của mảng arr: 18.96\n",
      "Tổng tích chập của arr1 và arr2: 152\n"
     ]
    }
   ],
   "execution_count": 13
  },
  {
   "metadata": {
    "ExecuteTime": {
     "end_time": "2024-10-04T08:22:13.319953Z",
     "start_time": "2024-10-04T08:22:13.317565Z"
    }
   },
   "cell_type": "code",
   "source": "",
   "id": "79123919710a4689",
   "outputs": [],
   "execution_count": null
  }
 ],
 "metadata": {
  "kernelspec": {
   "display_name": "Python 3",
   "language": "python",
   "name": "python3"
  },
  "language_info": {
   "codemirror_mode": {
    "name": "ipython",
    "version": 2
   },
   "file_extension": ".py",
   "mimetype": "text/x-python",
   "name": "python",
   "nbconvert_exporter": "python",
   "pygments_lexer": "ipython2",
   "version": "2.7.6"
  }
 },
 "nbformat": 4,
 "nbformat_minor": 5
}
